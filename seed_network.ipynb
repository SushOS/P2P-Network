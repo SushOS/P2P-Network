{
 "cells": [
  {
   "cell_type": "code",
   "execution_count": 1,
   "metadata": {},
   "outputs": [],
   "source": [
    "import socket\n",
    "import threading\n",
    "import json\n",
    "MESSAGE_SIZE = 1024"
   ]
  },
  {
   "cell_type": "code",
   "execution_count": 2,
   "metadata": {},
   "outputs": [],
   "source": [
    "class seedNode:\n",
    "    def __init__(self, host, port):\n",
    "        self.connected_peers = set()\n",
    "        self.s_host = host\n",
    "        self.s_port = port\n",
    "        self.s_address = (self.s_host, self.s_port)\n",
    "    #------------------------------------------------------------------------------------------\n",
    "    def startseed(self):\n",
    "        self.seed_socket = socket.socket(socket.AF_INET, socket.SOCK_STREAM)\n",
    "        self.seed_socket.bind((self.s_host, self.s_port))\n",
    "        self.seed_socket.listen()\n",
    "        print(f\"The seed node is listening at {self.s_host}:{self.s_port}\")\n",
    "\n",
    "        while True:\n",
    "            peer_socket, peer_address = self.seed_socket.accept()\n",
    "            # print(f\"A peer from {peer_address} has connected.\")\n",
    "            threading.Thread(target= self.handle_peer, args=(peer_socket,)).start()\n",
    "    #------------------------------------------------------------------------------------------\n",
    "    def handle_peer(self, peer_socket):\n",
    "        request = peer_socket.recv(MESSAGE_SIZE).decode()\n",
    "\n",
    "        if request.startswith(\"REGISTER\"):\n",
    "            self.add_peer(request.split()[1], int(request.split()[2]))\n",
    "        elif request == \"GET PEER LIST\":\n",
    "            self.send_peerlist(peer_socket)\n",
    "        elif request.startswith(\"DEAD NODE\"):\n",
    "            self.remove_dead_node(request.split()[1], int(request.split()[2]))\n",
    "    # #------------------------------------------------------------------------------------------\n",
    "    def send_peerlist(self, peer_socket):\n",
    "        peerlist = \",\".join([f\"{peer[0]}:{peer[1]}\" for peer in list(self.connected_peers)])\n",
    "        # peerlist = list(self.connected_peers)\n",
    "        print(f\"The peerlist is : {peerlist}\")\n",
    "        peer_socket.sendall(peerlist.encode())\n",
    "        print(f\"Sent peer list to {peer_socket.getpeername()[0]}:{peer_socket.getpeername()[1]}\")\n",
    "    # #------------------------------------------------------------------------------------------\n",
    "    def add_peer(self, host, port):\n",
    "        self.connected_peers.add((host, port))\n",
    "        print(f\"New peer at {host}:{port} is now registered with {self.s_host}:{self.s_port}.\")\n",
    "    # #------------------------------------------------------------------------------------------\n",
    "    def remove_dead_node(self, host, port):\n",
    "        if (host, port) in self.connected_peers:\n",
    "            self.connected_peers.remove((host, port))\n",
    "            print(f\"The node at {host}:{port} was dead and is now removed.\")\n",
    "            self.seed_socket.sendall(\"REMOVED\".encode())\n",
    "    # #------------------------------------------------------------------------------------------\n",
    "            "
   ]
  },
  {
   "cell_type": "code",
   "execution_count": 3,
   "metadata": {},
   "outputs": [],
   "source": [
    "def main():\n",
    "    with open('./config_file.json') as config_file:\n",
    "        config_data = json.load(config_file)\n",
    "\n",
    "    N = config_data[\"num_seeds\"]\n",
    "    print(f\"The number of Seed nodes in the network is : {N}\")\n",
    "    seed_addresses = config_data[\"Seed_addresses\"]\n",
    "    for seed_info in seed_addresses:\n",
    "        host = seed_info.get(\"Host\")\n",
    "        port = seed_info.get(\"Port\")\n",
    "        seed_node = seedNode(host, port)\n",
    "        seed_thread = threading.Thread(target=seed_node.startseed)\n",
    "        seed_thread.start()"
   ]
  },
  {
   "cell_type": "code",
   "execution_count": 4,
   "metadata": {},
   "outputs": [
    {
     "name": "stdout",
     "output_type": "stream",
     "text": [
      "The number of Seed nodes in the network is : 5\n",
      "The seed node is listening at 127.0.0.1:12346\n",
      "The seed node is listening at 127.0.0.1:12345\n",
      "The seed node is listening at 127.0.0.1:12347\n",
      "The seed node is listening at 127.0.0.1:12348\n",
      "The seed node is listening at 127.0.0.1:12349\n"
     ]
    },
    {
     "name": "stdout",
     "output_type": "stream",
     "text": [
      "New peer at 127.0.0.1:54380 is now registered with 127.0.0.1:12345.New peer at 127.0.0.1:54380 is now registered with 127.0.0.1:12348.\n",
      "\n",
      "New peer at 127.0.0.1:54380 is now registered with 127.0.0.1:12346.\n",
      "The peerlist is : 127.0.0.1:54380\n",
      "Sent peer list to 127.0.0.1:62625\n",
      "The peerlist is : 127.0.0.1:54380\n",
      "Sent peer list to 127.0.0.1:62626\n",
      "The peerlist is : 127.0.0.1:54380\n",
      "Sent peer list to 127.0.0.1:62627\n",
      "The peerlist is : 127.0.0.1:54380\n",
      "Sent peer list to 127.0.0.1:62628\n",
      "The peerlist is : 127.0.0.1:54380\n",
      "Sent peer list to 127.0.0.1:62629\n",
      "The peerlist is : 127.0.0.1:54380\n",
      "Sent peer list to 127.0.0.1:62630\n"
     ]
    }
   ],
   "source": [
    "if __name__ == \"__main__\":\n",
    "    main()"
   ]
  }
 ],
 "metadata": {
  "kernelspec": {
   "display_name": "mnist_cnn",
   "language": "python",
   "name": "python3"
  },
  "language_info": {
   "codemirror_mode": {
    "name": "ipython",
    "version": 3
   },
   "file_extension": ".py",
   "mimetype": "text/x-python",
   "name": "python",
   "nbconvert_exporter": "python",
   "pygments_lexer": "ipython3",
   "version": "3.11.5"
  }
 },
 "nbformat": 4,
 "nbformat_minor": 2
}
